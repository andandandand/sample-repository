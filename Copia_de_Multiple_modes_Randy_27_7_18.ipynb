{
  "nbformat": 4,
  "nbformat_minor": 0,
  "metadata": {
    "colab": {
      "name": "Copia de Multiple modes - Randy 27-7-18.ipynb",
      "version": "0.3.2",
      "views": {},
      "default_view": {},
      "provenance": [
        {
          "file_id": "1EdL0c_FMJCfBIBxClli5nEfWO6buK07Y",
          "timestamp": 1533088804987
        }
      ]
    },
    "kernelspec": {
      "name": "python3",
      "display_name": "Python 3"
    }
  },
  "cells": [
    {
      "metadata": {
        "id": "dsTBFXYfIfEa",
        "colab_type": "code",
        "colab": {
          "autoexec": {
            "startup": false,
            "wait_interval": 0
          },
          "base_uri": "https://localhost:8080/",
          "height": 35
        },
        "outputId": "cff685a0-12f0-40fb-c698-ea547f6ca83e",
        "executionInfo": {
          "status": "ok",
          "timestamp": 1533088683570,
          "user_tz": 240,
          "elapsed": 441,
          "user": {
            "displayName": "Antonio Rueda Toicen",
            "photoUrl": "https://lh3.googleusercontent.com/a/default-user=s128",
            "userId": "101459211250025877627"
          }
        }
      },
      "cell_type": "code",
      "source": [
        "def modes(data):\n",
        "  \n",
        "  characterSet = set(data)\n",
        "  characterList = list(data)\n",
        "  characterCount = {}\n",
        "  keys = set(data)\n",
        "  for k in keys:\n",
        "    characterCount[k] = characterList.count(k)\n",
        " \n",
        "  #print(characterCount) \n",
        "  \n",
        "  mode = max(characterCount.values())\n",
        "  \n",
        "  valuesToReturn = []\n",
        "  for k in characterCount.keys():\n",
        "    if characterCount[k] == mode:\n",
        "      valuesToReturn.append(k)\n",
        "       \n",
        "  # if there is no mode, we return an empty list   \n",
        "  if (len(characterSet) - list(characterCount.values()).count(mode) == 0 ):\n",
        "    return []\n",
        "  \n",
        "  return sorted(valuesToReturn)\n",
        "\n",
        "\n",
        "modes(\"redder\")"
      ],
      "execution_count": 0,
      "outputs": [
        {
          "output_type": "execute_result",
          "data": {
            "text/plain": [
              "[]"
            ]
          },
          "metadata": {
            "tags": []
          },
          "execution_count": 27
        }
      ]
    }
  ]
}